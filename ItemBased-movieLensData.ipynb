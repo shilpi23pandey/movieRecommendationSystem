{
 "cells": [
  {
   "cell_type": "code",
   "execution_count": 55,
   "metadata": {},
   "outputs": [],
   "source": [
    "import matplotlib\n",
    "import matplotlib.pyplot as plt\n",
    "import pandas as pd\n",
    "import numpy as np\n",
    "from numpy import arange,array,ones,linalg\n",
    "from pylab import plot,show"
   ]
  },
  {
   "cell_type": "code",
   "execution_count": 56,
   "metadata": {},
   "outputs": [],
   "source": [
    "ratings = pd.read_csv('Data/ratings.csv')\n",
    "movies = pd.read_csv('Data/movies.csv')\n",
    "movies=movies.set_index('movieId').to_dict()\n",
    "movies=movies['title']\n",
    "ratings = ratings.iloc[9:,:3].values\n",
    "userRatings = {}\n",
    "for rating in ratings:\n",
    "    userRatings.setdefault(rating[0],{})\n",
    "    userRatings[rating[0]][rating[1]] = rating[2]"
   ]
  },
  {
   "cell_type": "code",
   "execution_count": 57,
   "metadata": {},
   "outputs": [],
   "source": [
    "from math import sqrt\n",
    "def sim_distance(prefs,item1,item2):\n",
    " # Get the list of shared_items\n",
    "\tsi={}\n",
    " \tfor person in prefs[item1]:\n",
    " \t\tif person in prefs[item2]:\n",
    " \t\t\tsi[person]=1\n",
    "\tif len(si)==0: \n",
    "\t\treturn 0\n",
    "\tsum_of_squares=0\n",
    "\tfor person in prefs[item1]:\n",
    "\t\tif person in prefs[item2]: \n",
    "\t\t\tsum_of_squares=sum_of_squares+pow((prefs[item1][person]-prefs[item2][person]),2)\n",
    "\n",
    " \treturn (1/(1+sum_of_squares))\n"
   ]
  },
  {
   "cell_type": "code",
   "execution_count": 58,
   "metadata": {},
   "outputs": [],
   "source": [
    "def topMatches(itemPref,item,n):\n",
    "\n",
    "\tscores=[]\n",
    "\tfor otherItem in itemPref:\n",
    "\t\tif otherItem!=item:\n",
    "\t\t\ttup=(sim_distance(itemPref,item,otherItem),otherItem)\n",
    "\t\t\tscores.append(tup)\n",
    "\tscores.sort()\n",
    "\tscores.reverse()\n",
    "\treturn scores[0:n]"
   ]
  },
  {
   "cell_type": "code",
   "execution_count": 59,
   "metadata": {},
   "outputs": [],
   "source": [
    "def transformPrefferences(pref):\n",
    "\tresult={}\n",
    "\tfor person in pref:\n",
    "\t\tfor item in pref[person]:\n",
    "\t\t\tresult.setdefault(item,{})\n",
    "\t\t\tresult[item][person]=pref[person][item]\n",
    "\treturn result"
   ]
  },
  {
   "cell_type": "code",
   "execution_count": 60,
   "metadata": {},
   "outputs": [],
   "source": [
    "def similarItems(pref,n=10):\n",
    "\tresult={}\n",
    "\titemPref=transformPrefferences(pref)\n",
    "\tfor item in itemPref:\n",
    "\t\tscore=topMatches(itemPref,item,n=n)\n",
    "\t\tresult[item]=score\n",
    "\t#print(result)\n",
    "\treturn result"
   ]
  },
  {
   "cell_type": "code",
   "execution_count": 61,
   "metadata": {},
   "outputs": [],
   "source": [
    "def getRecommendations(pref,user,similarityMetric):\n",
    "\t#get movies rated by user\n",
    "\tuserRatings=pref[user]\n",
    "\t#get similar items\n",
    "\tsimSum={}\n",
    "\ttotalSum={}\n",
    "\tfor movie in userRatings:\n",
    "\t\tfor (similarity,item) in similarityMetric[movie]:\n",
    "\t\t\tif item in userRatings:\n",
    "\t\t\t\tcontinue\n",
    "\t\t\tsimSum.setdefault(item,0)\n",
    "\t\t\tsimSum[item]+=similarity\n",
    "\t\t\ttotalSum.setdefault(item,0)\n",
    "\t\t\ttotalSum[item]+=similarity*userRatings[movie]\n",
    "\n",
    "\trankings=[]\n",
    "\tfor item in simSum:\n",
    "\t\tif  simSum==0:\n",
    "\t\t\trankings.append((0,item))\n",
    "\t\telse:\n",
    "\t\t\trankings.append((totalSum[item]/simSum[item],item))\n",
    "\trankings.sort()\n",
    "\trankings.reverse()\n",
    "\treturn rankings"
   ]
  },
  {
   "cell_type": "code",
   "execution_count": 62,
   "metadata": {
    "scrolled": true
   },
   "outputs": [],
   "source": [
    "similarityMetric=similarItems(userRatings)\n",
    "recommendedMovieIds=getRecommendations(userRatings,1,similarityMetric)"
   ]
  },
  {
   "cell_type": "code",
   "execution_count": 63,
   "metadata": {},
   "outputs": [
    {
     "name": "stdout",
     "output_type": "stream",
     "text": [
      "['The Beatles: Eight Days a Week - The Touring Years (2016)', 'Mike & Dave Need Wedding Dates (2016)', 'Making a Murderer (2015)', 'The Witch (2015)', 'Room (2015)', 'Ted 2 (2015)', 'Love & Mercy (2014)', 'Home (2015)', 'Going Clear: Scientology and the Prison of Belief (2015)', 'Hello, My Name Is Doris (2016)', 'The Night Before (2015)', 'Beasts of No Nation (2015)', 'Kingsglaive: Final Fantasy XV (2016)', 'The Video Dead (1987)', 'The Brothers Grimsby (2016)', 'Zootopia (2016)', 'The Lovers and the Despot', 'Batman v Superman: Dawn of Justice (2016)', 'Spectre (2015)', \"Daddy's Home (2015)\", 'Peanuts Movie, The (2015)', 'Pawn Sacrifice (2015)', 'The Purge: Election Year (2016)', 'Teenage Mutant Ninja Turtles: Out of the Shadows (2016)', 'The Shallows (2016)', 'Finding Dory (2016)', 'Neighbors 2: Sorority Rising (2016)', 'Close Range (2015)', 'The Dressmaker (2015)', 'Spotlight (2015)', 'Everest (2015)', 'Cop Car (2015)', 'Anomalisa (2015)', 'Southpaw (2015)', 'Irrational Man (2015)', 'Suicide Squad (2016)', 'Focus (2015)', 'The Wedding Ringer (2015)', 'The Nice Guys (2016)', 'Demons (1971)', 'Creed (2015)', 'Mohenjo Daro (2016)', 'Hush (2016)', 'Green Room (2015)', 'Deathgasm (2015)', 'Straight Outta Compton (2015)', 'The Gift (2015)', 'The Revenant (2015)', 'Afro Samurai (2007)', 'Warcraft (2016)', 'The Theory of Everything (2014)', 'Ex Machina (2015)', 'Piper (2016)', 'Sing Street (2016)', '10 Cloverfield Lane (2016)', 'The Danish Girl (2015)', 'The Lobster (2015)', 'Muck (2015)', 'The Conjuring 2 (2016)', 'SOMM: Into the Bottle (2016)', 'Big Short, The (2015)', 'Strictly Business (1991)', 'Sicario (2015)', 'The Jungle Book (2016)', 'Seve (2014)']\n"
     ]
    }
   ],
   "source": [
    "recommendedMovies=[]\n",
    "for item in recommendedMovieIds:\n",
    "    recommendedMovies.append(movies[item[1]])\n",
    "print(recommendedMovies)"
   ]
  }
 ],
 "metadata": {
  "kernelspec": {
   "display_name": "Python 2",
   "language": "python",
   "name": "python2"
  },
  "language_info": {
   "codemirror_mode": {
    "name": "ipython",
    "version": 2
   },
   "file_extension": ".py",
   "mimetype": "text/x-python",
   "name": "python",
   "nbconvert_exporter": "python",
   "pygments_lexer": "ipython2",
   "version": "2.7.15"
  }
 },
 "nbformat": 4,
 "nbformat_minor": 2
}
