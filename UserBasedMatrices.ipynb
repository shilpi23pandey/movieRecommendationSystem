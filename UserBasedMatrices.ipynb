{
 "cells": [
  {
   "cell_type": "code",
   "execution_count": 118,
   "metadata": {},
   "outputs": [],
   "source": [
    "import matplotlib\n",
    "import matplotlib.pyplot as plt\n",
    "import pandas as pd\n",
    "import numpy as np\n",
    "from numpy import arange,array,ones,linalg\n",
    "from pylab import plot,show"
   ]
  },
  {
   "cell_type": "code",
   "execution_count": 119,
   "metadata": {},
   "outputs": [
    {
     "name": "stdout",
     "output_type": "stream",
     "text": [
      "   userId  movieId  rating   timestamp\n",
      "0       1       31     2.5  1260759144\n",
      "1       1     1029     3.0  1260759179\n",
      "2       1     1061     3.0  1260759182\n",
      "3       1     1129     2.0  1260759185\n",
      "4       1     1172     4.0  1260759205\n",
      "5       1     1263     2.0  1260759151\n",
      "6       1     1287     2.0  1260759187\n",
      "7       1     1293     2.0  1260759148\n",
      "8       1     1339     3.5  1260759125\n",
      "9       1     1343     2.0  1260759131\n"
     ]
    }
   ],
   "source": [
    "ratings = pd.read_csv('Data/ratings.csv')\n",
    "print(ratings.head(10))"
   ]
  },
  {
   "cell_type": "code",
   "execution_count": 120,
   "metadata": {},
   "outputs": [
    {
     "name": "stdout",
     "output_type": "stream",
     "text": [
      "671\n"
     ]
    }
   ],
   "source": [
    "print(len( ratings.userId.unique() ))"
   ]
  },
  {
   "cell_type": "code",
   "execution_count": 121,
   "metadata": {},
   "outputs": [
    {
     "name": "stdout",
     "output_type": "stream",
     "text": [
      "9066\n"
     ]
    }
   ],
   "source": [
    "print(len(ratings.movieId.unique()))"
   ]
  },
  {
   "cell_type": "code",
   "execution_count": 122,
   "metadata": {
    "scrolled": true
   },
   "outputs": [
    {
     "name": "stdout",
     "output_type": "stream",
     "text": [
      "   userId  movieId  rating\n",
      "0       1       31     2.5\n",
      "1       1     1029     3.0\n",
      "2       1     1061     3.0\n",
      "3       1     1129     2.0\n",
      "4       1     1172     4.0\n",
      "5       1     1263     2.0\n",
      "6       1     1287     2.0\n",
      "7       1     1293     2.0\n",
      "8       1     1339     3.5\n",
      "9       1     1343     2.0\n"
     ]
    }
   ],
   "source": [
    "ratings.drop( \"timestamp\", inplace = True, axis = 1 )\n",
    "print(ratings.head(10))"
   ]
  },
  {
   "cell_type": "code",
   "execution_count": 123,
   "metadata": {},
   "outputs": [
    {
     "name": "stdout",
     "output_type": "stream",
     "text": [
      "   movieId                               title\n",
      "0        1                    Toy Story (1995)\n",
      "1        2                      Jumanji (1995)\n",
      "2        3             Grumpier Old Men (1995)\n",
      "3        4            Waiting to Exhale (1995)\n",
      "4        5  Father of the Bride Part II (1995)\n",
      "5        6                         Heat (1995)\n",
      "6        7                      Sabrina (1995)\n",
      "7        8                 Tom and Huck (1995)\n",
      "8        9                 Sudden Death (1995)\n",
      "9       10                    GoldenEye (1995)\n"
     ]
    }
   ],
   "source": [
    "movies = pd.read_csv('Data/movies.csv')\n",
    "movies = movies.iloc[:,:2]\n",
    "print(movies.head(10))"
   ]
  },
  {
   "cell_type": "code",
   "execution_count": 124,
   "metadata": {},
   "outputs": [
    {
     "name": "stdout",
     "output_type": "stream",
     "text": [
      "(9066, 671)\n",
      "userId   41   42   43   44   45   46   47   48   49   50\n",
      "1       3.5  0.0  0.0  0.0  0.0  0.0  5.0  3.5  5.0  0.0\n",
      "2       0.0  0.0  0.0  5.0  0.0  0.0  0.0  0.0  0.0  0.0\n",
      "3       0.0  0.0  0.0  0.0  0.0  0.0  0.0  0.0  0.0  0.0\n",
      "4       0.0  0.0  0.0  3.0  0.0  0.0  0.0  0.0  0.0  0.0\n",
      "5       0.0  0.0  0.0  3.0  0.0  0.0  0.0  0.0  0.0  0.0\n",
      "6       0.0  0.0  0.0  0.0  0.0  0.0  0.0  0.0  0.0  0.0\n",
      "7       0.0  0.0  0.0  0.0  0.0  0.0  0.0  0.0  0.0  0.0\n",
      "8       0.0  0.0  0.0  0.0  0.0  0.0  0.0  0.0  0.0  0.0\n",
      "9       0.0  0.0  0.0  0.0  0.0  0.0  4.0  0.0  0.0  4.0\n"
     ]
    }
   ],
   "source": [
    "userMovies = ratings.pivot( index='movieId', columns='userId', values = \"rating\" ).reset_index(drop=True)\n",
    "userMovies.fillna( 0, inplace = True )\n",
    "print(userMovies.shape)\n",
    "print(userMovies.iloc[1:10, 40:50])"
   ]
  },
  {
   "cell_type": "code",
   "execution_count": null,
   "metadata": {
    "scrolled": true
   },
   "outputs": [],
   "source": []
  },
  {
   "cell_type": "code",
   "execution_count": 125,
   "metadata": {},
   "outputs": [],
   "source": [
    "from math import sqrt\n",
    "def pearsonSimilarity(person1,person2):\n",
    "    common=[]\n",
    "    person1=userMovies[person1]\n",
    "    person2=userMovies[person2]\n",
    "    col=1\n",
    "    for i in person1:\n",
    "        if i>0 and person2[col]>0:\n",
    "            common.append(col)\n",
    "        col+=1\n",
    "        \n",
    "    print(common)"
   ]
  },
  {
   "cell_type": "code",
   "execution_count": 126,
   "metadata": {},
   "outputs": [
    {
     "name": "stdout",
     "output_type": "stream",
     "text": [
      "[]\n"
     ]
    }
   ],
   "source": [
    "pearsonSimilarity(1,9)"
   ]
  }
 ],
 "metadata": {
  "kernelspec": {
   "display_name": "Python 2",
   "language": "python",
   "name": "python2"
  },
  "language_info": {
   "codemirror_mode": {
    "name": "ipython",
    "version": 2
   },
   "file_extension": ".py",
   "mimetype": "text/x-python",
   "name": "python",
   "nbconvert_exporter": "python",
   "pygments_lexer": "ipython2",
   "version": "2.7.15rc1"
  }
 },
 "nbformat": 4,
 "nbformat_minor": 2
}
